{
 "cells": [
  {
   "cell_type": "markdown",
   "metadata": {},
   "source": [
    "時間序列"
   ]
  },
  {
   "cell_type": "code",
   "execution_count": 6,
   "metadata": {},
   "outputs": [],
   "source": [
    "import pandas as pd\n",
    "import numpy as np"
   ]
  },
  {
   "cell_type": "code",
   "execution_count": 4,
   "metadata": {},
   "outputs": [],
   "source": [
    "rng = pd.date_range('1/1/2010', periods=100, freq='S') #sec"
   ]
  },
  {
   "cell_type": "code",
   "execution_count": 7,
   "metadata": {},
   "outputs": [
    {
     "data": {
      "text/plain": [
       "2010-01-01 00:00:00     51\n",
       "2010-01-01 00:00:01    168\n",
       "2010-01-01 00:00:02     95\n",
       "2010-01-01 00:00:03    415\n",
       "2010-01-01 00:00:04    485\n",
       "                      ... \n",
       "2010-01-01 00:01:35     98\n",
       "2010-01-01 00:01:36    264\n",
       "2010-01-01 00:01:37    235\n",
       "2010-01-01 00:01:38    215\n",
       "2010-01-01 00:01:39    164\n",
       "Freq: S, Length: 100, dtype: int32"
      ]
     },
     "execution_count": 7,
     "metadata": {},
     "output_type": "execute_result"
    }
   ],
   "source": [
    "ts = pd.Series(np.random.randint(0, 500, len(rng)), index=rng)\n",
    "ts"
   ]
  },
  {
   "cell_type": "code",
   "execution_count": 8,
   "metadata": {},
   "outputs": [
    {
     "data": {
      "text/plain": [
       "2010-01-01    25508\n",
       "Freq: 5T, dtype: int32"
      ]
     },
     "execution_count": 8,
     "metadata": {},
     "output_type": "execute_result"
    }
   ],
   "source": [
    "ts.resample('5Min').sum() #???"
   ]
  },
  {
   "cell_type": "code",
   "execution_count": 9,
   "metadata": {},
   "outputs": [],
   "source": [
    "rng = pd.date_range('3/6/2012 00:00', periods=5, freq='D')"
   ]
  },
  {
   "cell_type": "code",
   "execution_count": 10,
   "metadata": {},
   "outputs": [
    {
     "data": {
      "text/plain": [
       "2012-03-06   -0.739233\n",
       "2012-03-07   -0.642951\n",
       "2012-03-08   -0.158034\n",
       "2012-03-09   -1.279766\n",
       "2012-03-10   -0.745547\n",
       "Freq: D, dtype: float64"
      ]
     },
     "execution_count": 10,
     "metadata": {},
     "output_type": "execute_result"
    }
   ],
   "source": [
    "ts = pd.Series(np.random.randn(len(rng)), rng)\n",
    "ts"
   ]
  },
  {
   "cell_type": "code",
   "execution_count": 12,
   "metadata": {},
   "outputs": [],
   "source": [
    "ts.utc = ts.tz_localize('UTC')"
   ]
  },
  {
   "cell_type": "code",
   "execution_count": 13,
   "metadata": {},
   "outputs": [
    {
     "data": {
      "text/plain": [
       "2012-03-06 00:00:00+00:00   -0.739233\n",
       "2012-03-07 00:00:00+00:00   -0.642951\n",
       "2012-03-08 00:00:00+00:00   -0.158034\n",
       "2012-03-09 00:00:00+00:00   -1.279766\n",
       "2012-03-10 00:00:00+00:00   -0.745547\n",
       "Freq: D, dtype: float64"
      ]
     },
     "execution_count": 13,
     "metadata": {},
     "output_type": "execute_result"
    }
   ],
   "source": [
    "ts.utc"
   ]
  },
  {
   "cell_type": "code",
   "execution_count": 14,
   "metadata": {},
   "outputs": [
    {
     "data": {
      "text/plain": [
       "2012-03-05 19:00:00-05:00   -0.739233\n",
       "2012-03-06 19:00:00-05:00   -0.642951\n",
       "2012-03-07 19:00:00-05:00   -0.158034\n",
       "2012-03-08 19:00:00-05:00   -1.279766\n",
       "2012-03-09 19:00:00-05:00   -0.745547\n",
       "Freq: D, dtype: float64"
      ]
     },
     "execution_count": 14,
     "metadata": {},
     "output_type": "execute_result"
    }
   ],
   "source": [
    "ts.utc.tz_convert('US/Eastern')"
   ]
  },
  {
   "cell_type": "code",
   "execution_count": 15,
   "metadata": {},
   "outputs": [
    {
     "data": {
      "text/plain": [
       "2012-01-31    0.526847\n",
       "2012-02-29   -1.425312\n",
       "2012-03-31   -0.361873\n",
       "2012-04-30    1.140218\n",
       "2012-05-31    1.560938\n",
       "Freq: M, dtype: float64"
      ]
     },
     "execution_count": 15,
     "metadata": {},
     "output_type": "execute_result"
    }
   ],
   "source": [
    "rng = pd.date_range('1/1/2012', periods=5, freq='M')\n",
    "ts = pd.Series(np.random.randn(len(rng)), index=rng)\n",
    "ts"
   ]
  },
  {
   "cell_type": "code",
   "execution_count": 16,
   "metadata": {},
   "outputs": [
    {
     "data": {
      "text/plain": [
       "2012-01    0.526847\n",
       "2012-02   -1.425312\n",
       "2012-03   -0.361873\n",
       "2012-04    1.140218\n",
       "2012-05    1.560938\n",
       "Freq: M, dtype: float64"
      ]
     },
     "execution_count": 16,
     "metadata": {},
     "output_type": "execute_result"
    }
   ],
   "source": [
    "ps = ts.to_period()\n",
    "ps"
   ]
  },
  {
   "cell_type": "code",
   "execution_count": 17,
   "metadata": {},
   "outputs": [
    {
     "data": {
      "text/plain": [
       "2012-01-01    0.526847\n",
       "2012-02-01   -1.425312\n",
       "2012-03-01   -0.361873\n",
       "2012-04-01    1.140218\n",
       "2012-05-01    1.560938\n",
       "Freq: MS, dtype: float64"
      ]
     },
     "execution_count": 17,
     "metadata": {},
     "output_type": "execute_result"
    }
   ],
   "source": [
    "ps.to_timestamp()"
   ]
  },
  {
   "cell_type": "code",
   "execution_count": 18,
   "metadata": {},
   "outputs": [],
   "source": [
    "prng = pd.period_range('2015Q1', '2016Q4', freq='Q-NOV')"
   ]
  },
  {
   "cell_type": "code",
   "execution_count": 19,
   "metadata": {},
   "outputs": [],
   "source": [
    "ts = pd.Series(np.random.randn(len(prng)), prng)"
   ]
  },
  {
   "cell_type": "code",
   "execution_count": 20,
   "metadata": {},
   "outputs": [],
   "source": [
    "ts.index = (prng.asfreq('M', 'e') + 1).asfreq('H', 's') + 9"
   ]
  },
  {
   "cell_type": "code",
   "execution_count": 21,
   "metadata": {},
   "outputs": [
    {
     "data": {
      "text/plain": [
       "2015-03-01 09:00   -1.169014\n",
       "2015-06-01 09:00    1.262321\n",
       "2015-09-01 09:00   -0.572940\n",
       "2015-12-01 09:00    1.790997\n",
       "2016-03-01 09:00    0.139941\n",
       "Freq: H, dtype: float64"
      ]
     },
     "execution_count": 21,
     "metadata": {},
     "output_type": "execute_result"
    }
   ],
   "source": [
    "ts.head()"
   ]
  },
  {
   "cell_type": "markdown",
   "metadata": {},
   "source": [
    "類別"
   ]
  },
  {
   "cell_type": "code",
   "execution_count": 22,
   "metadata": {},
   "outputs": [
    {
     "data": {
      "text/html": [
       "<div>\n",
       "<style scoped>\n",
       "    .dataframe tbody tr th:only-of-type {\n",
       "        vertical-align: middle;\n",
       "    }\n",
       "\n",
       "    .dataframe tbody tr th {\n",
       "        vertical-align: top;\n",
       "    }\n",
       "\n",
       "    .dataframe thead th {\n",
       "        text-align: right;\n",
       "    }\n",
       "</style>\n",
       "<table border=\"1\" class=\"dataframe\">\n",
       "  <thead>\n",
       "    <tr style=\"text-align: right;\">\n",
       "      <th></th>\n",
       "      <th>id</th>\n",
       "      <th>raw_grade</th>\n",
       "    </tr>\n",
       "  </thead>\n",
       "  <tbody>\n",
       "    <tr>\n",
       "      <td>0</td>\n",
       "      <td>1</td>\n",
       "      <td>a</td>\n",
       "    </tr>\n",
       "    <tr>\n",
       "      <td>1</td>\n",
       "      <td>2</td>\n",
       "      <td>b</td>\n",
       "    </tr>\n",
       "    <tr>\n",
       "      <td>2</td>\n",
       "      <td>3</td>\n",
       "      <td>b</td>\n",
       "    </tr>\n",
       "    <tr>\n",
       "      <td>3</td>\n",
       "      <td>4</td>\n",
       "      <td>a</td>\n",
       "    </tr>\n",
       "    <tr>\n",
       "      <td>4</td>\n",
       "      <td>5</td>\n",
       "      <td>a</td>\n",
       "    </tr>\n",
       "    <tr>\n",
       "      <td>5</td>\n",
       "      <td>6</td>\n",
       "      <td>e</td>\n",
       "    </tr>\n",
       "  </tbody>\n",
       "</table>\n",
       "</div>"
      ],
      "text/plain": [
       "   id raw_grade\n",
       "0   1         a\n",
       "1   2         b\n",
       "2   3         b\n",
       "3   4         a\n",
       "4   5         a\n",
       "5   6         e"
      ]
     },
     "execution_count": 22,
     "metadata": {},
     "output_type": "execute_result"
    }
   ],
   "source": [
    "df = pd.DataFrame({\n",
    "    \"id\":[1,2,3,4,5,6],\n",
    "    \"raw_grade\":['a','b','b','a','a','e']\n",
    "})\n",
    "df"
   ]
  },
  {
   "cell_type": "code",
   "execution_count": 23,
   "metadata": {},
   "outputs": [],
   "source": [
    "df[\"grade\"]=df[\"raw_grade\"].astype(\"category\")"
   ]
  },
  {
   "cell_type": "code",
   "execution_count": 24,
   "metadata": {},
   "outputs": [
    {
     "data": {
      "text/plain": [
       "0    a\n",
       "1    b\n",
       "2    b\n",
       "3    a\n",
       "4    a\n",
       "5    e\n",
       "Name: grade, dtype: category\n",
       "Categories (3, object): [a, b, e]"
      ]
     },
     "execution_count": 24,
     "metadata": {},
     "output_type": "execute_result"
    }
   ],
   "source": [
    "df[\"grade\"]"
   ]
  },
  {
   "cell_type": "code",
   "execution_count": 25,
   "metadata": {},
   "outputs": [
    {
     "data": {
      "text/html": [
       "<div>\n",
       "<style scoped>\n",
       "    .dataframe tbody tr th:only-of-type {\n",
       "        vertical-align: middle;\n",
       "    }\n",
       "\n",
       "    .dataframe tbody tr th {\n",
       "        vertical-align: top;\n",
       "    }\n",
       "\n",
       "    .dataframe thead th {\n",
       "        text-align: right;\n",
       "    }\n",
       "</style>\n",
       "<table border=\"1\" class=\"dataframe\">\n",
       "  <thead>\n",
       "    <tr style=\"text-align: right;\">\n",
       "      <th></th>\n",
       "      <th>id</th>\n",
       "      <th>raw_grade</th>\n",
       "      <th>grade</th>\n",
       "    </tr>\n",
       "  </thead>\n",
       "  <tbody>\n",
       "    <tr>\n",
       "      <td>0</td>\n",
       "      <td>1</td>\n",
       "      <td>a</td>\n",
       "      <td>very good</td>\n",
       "    </tr>\n",
       "    <tr>\n",
       "      <td>1</td>\n",
       "      <td>2</td>\n",
       "      <td>b</td>\n",
       "      <td>good</td>\n",
       "    </tr>\n",
       "    <tr>\n",
       "      <td>2</td>\n",
       "      <td>3</td>\n",
       "      <td>b</td>\n",
       "      <td>good</td>\n",
       "    </tr>\n",
       "    <tr>\n",
       "      <td>3</td>\n",
       "      <td>4</td>\n",
       "      <td>a</td>\n",
       "      <td>very good</td>\n",
       "    </tr>\n",
       "    <tr>\n",
       "      <td>4</td>\n",
       "      <td>5</td>\n",
       "      <td>a</td>\n",
       "      <td>very good</td>\n",
       "    </tr>\n",
       "    <tr>\n",
       "      <td>5</td>\n",
       "      <td>6</td>\n",
       "      <td>e</td>\n",
       "      <td>very bad</td>\n",
       "    </tr>\n",
       "  </tbody>\n",
       "</table>\n",
       "</div>"
      ],
      "text/plain": [
       "   id raw_grade      grade\n",
       "0   1         a  very good\n",
       "1   2         b       good\n",
       "2   3         b       good\n",
       "3   4         a  very good\n",
       "4   5         a  very good\n",
       "5   6         e   very bad"
      ]
     },
     "execution_count": 25,
     "metadata": {},
     "output_type": "execute_result"
    }
   ],
   "source": [
    "df[\"grade\"].cat.categories = [\"very good\", \"good\", \"very bad\"]\n",
    "df"
   ]
  },
  {
   "cell_type": "code",
   "execution_count": 26,
   "metadata": {},
   "outputs": [],
   "source": [
    "df[\"grade\"]=df[\"grade\"].cat.set_categories([\n",
    "    \"very bad\", \"bad\", \"medium\", \"good\", \"very good\"\n",
    "])"
   ]
  },
  {
   "cell_type": "code",
   "execution_count": 27,
   "metadata": {},
   "outputs": [
    {
     "data": {
      "text/plain": [
       "0    very good\n",
       "1         good\n",
       "2         good\n",
       "3    very good\n",
       "4    very good\n",
       "5     very bad\n",
       "Name: grade, dtype: category\n",
       "Categories (5, object): [very bad, bad, medium, good, very good]"
      ]
     },
     "execution_count": 27,
     "metadata": {},
     "output_type": "execute_result"
    }
   ],
   "source": [
    "df[\"grade\"]"
   ]
  },
  {
   "cell_type": "code",
   "execution_count": 28,
   "metadata": {},
   "outputs": [
    {
     "data": {
      "text/html": [
       "<div>\n",
       "<style scoped>\n",
       "    .dataframe tbody tr th:only-of-type {\n",
       "        vertical-align: middle;\n",
       "    }\n",
       "\n",
       "    .dataframe tbody tr th {\n",
       "        vertical-align: top;\n",
       "    }\n",
       "\n",
       "    .dataframe thead th {\n",
       "        text-align: right;\n",
       "    }\n",
       "</style>\n",
       "<table border=\"1\" class=\"dataframe\">\n",
       "  <thead>\n",
       "    <tr style=\"text-align: right;\">\n",
       "      <th></th>\n",
       "      <th>id</th>\n",
       "      <th>raw_grade</th>\n",
       "      <th>grade</th>\n",
       "    </tr>\n",
       "  </thead>\n",
       "  <tbody>\n",
       "    <tr>\n",
       "      <td>5</td>\n",
       "      <td>6</td>\n",
       "      <td>e</td>\n",
       "      <td>very bad</td>\n",
       "    </tr>\n",
       "    <tr>\n",
       "      <td>1</td>\n",
       "      <td>2</td>\n",
       "      <td>b</td>\n",
       "      <td>good</td>\n",
       "    </tr>\n",
       "    <tr>\n",
       "      <td>2</td>\n",
       "      <td>3</td>\n",
       "      <td>b</td>\n",
       "      <td>good</td>\n",
       "    </tr>\n",
       "    <tr>\n",
       "      <td>0</td>\n",
       "      <td>1</td>\n",
       "      <td>a</td>\n",
       "      <td>very good</td>\n",
       "    </tr>\n",
       "    <tr>\n",
       "      <td>3</td>\n",
       "      <td>4</td>\n",
       "      <td>a</td>\n",
       "      <td>very good</td>\n",
       "    </tr>\n",
       "    <tr>\n",
       "      <td>4</td>\n",
       "      <td>5</td>\n",
       "      <td>a</td>\n",
       "      <td>very good</td>\n",
       "    </tr>\n",
       "  </tbody>\n",
       "</table>\n",
       "</div>"
      ],
      "text/plain": [
       "   id raw_grade      grade\n",
       "5   6         e   very bad\n",
       "1   2         b       good\n",
       "2   3         b       good\n",
       "0   1         a  very good\n",
       "3   4         a  very good\n",
       "4   5         a  very good"
      ]
     },
     "execution_count": 28,
     "metadata": {},
     "output_type": "execute_result"
    }
   ],
   "source": [
    "df.sort_values(by=\"grade\")"
   ]
  },
  {
   "cell_type": "code",
   "execution_count": 29,
   "metadata": {},
   "outputs": [
    {
     "data": {
      "text/plain": [
       "grade\n",
       "very bad     1\n",
       "bad          0\n",
       "medium       0\n",
       "good         2\n",
       "very good    3\n",
       "dtype: int64"
      ]
     },
     "execution_count": 29,
     "metadata": {},
     "output_type": "execute_result"
    }
   ],
   "source": [
    "df.groupby(\"grade\").size()"
   ]
  },
  {
   "cell_type": "markdown",
   "metadata": {},
   "source": [
    "繪圖"
   ]
  },
  {
   "cell_type": "code",
   "execution_count": 30,
   "metadata": {},
   "outputs": [],
   "source": [
    "import matplotlib.pylab as plt"
   ]
  },
  {
   "cell_type": "code",
   "execution_count": 31,
   "metadata": {},
   "outputs": [
    {
     "data": {
      "text/plain": [
       "2014-01-01   -0.393800\n",
       "2014-01-02   -1.478631\n",
       "2014-01-03    0.763151\n",
       "2014-01-04   -0.831330\n",
       "2014-01-05    1.130702\n",
       "                ...   \n",
       "2016-09-22   -0.874625\n",
       "2016-09-23    1.401036\n",
       "2016-09-24   -0.379425\n",
       "2016-09-25    1.606034\n",
       "2016-09-26    0.226434\n",
       "Freq: D, Length: 1000, dtype: float64"
      ]
     },
     "execution_count": 31,
     "metadata": {},
     "output_type": "execute_result"
    }
   ],
   "source": [
    "ts = pd.Series(np.random.randn(1000), index=pd.date_range('1/1/2014', periods=1000))\n",
    "ts"
   ]
  },
  {
   "cell_type": "code",
   "execution_count": 32,
   "metadata": {},
   "outputs": [
    {
     "data": {
      "text/plain": [
       "2014-01-01    -0.393800\n",
       "2014-01-02    -1.872431\n",
       "2014-01-03    -1.109280\n",
       "2014-01-04    -1.940610\n",
       "2014-01-05    -0.809907\n",
       "                ...    \n",
       "2016-09-22    39.496150\n",
       "2016-09-23    40.897186\n",
       "2016-09-24    40.517761\n",
       "2016-09-25    42.123795\n",
       "2016-09-26    42.350229\n",
       "Freq: D, Length: 1000, dtype: float64"
      ]
     },
     "execution_count": 32,
     "metadata": {},
     "output_type": "execute_result"
    }
   ],
   "source": [
    "ts = ts.cumsum()\n",
    "ts"
   ]
  },
  {
   "cell_type": "code",
   "execution_count": 33,
   "metadata": {},
   "outputs": [
    {
     "data": {
      "text/plain": [
       "<matplotlib.axes._subplots.AxesSubplot at 0x1bf76825748>"
      ]
     },
     "execution_count": 33,
     "metadata": {},
     "output_type": "execute_result"
    },
    {
     "data": {
      "image/png": "[encoded data removed]",
      "text/plain": [
       "<Figure size 432x288 with 1 Axes>"
      ]
     },
     "metadata": {
      "needs_background": "light"
     },
     "output_type": "display_data"
    }
   ],
   "source": [
    "ts.plot()"
   ]
  },
  {
   "cell_type": "code",
   "execution_count": 34,
   "metadata": {},
   "outputs": [
    {
     "data": {
      "text/html": [
       "<div>\n",
       "<style scoped>\n",
       "    .dataframe tbody tr th:only-of-type {\n",
       "        vertical-align: middle;\n",
       "    }\n",
       "\n",
       "    .dataframe tbody tr th {\n",
       "        vertical-align: top;\n",
       "    }\n",
       "\n",
       "    .dataframe thead th {\n",
       "        text-align: right;\n",
       "    }\n",
       "</style>\n",
       "<table border=\"1\" class=\"dataframe\">\n",
       "  <thead>\n",
       "    <tr style=\"text-align: right;\">\n",
       "      <th></th>\n",
       "      <th>A</th>\n",
       "      <th>B</th>\n",
       "      <th>C</th>\n",
       "      <th>D</th>\n",
       "    </tr>\n",
       "  </thead>\n",
       "  <tbody>\n",
       "    <tr>\n",
       "      <td>2014-01-01</td>\n",
       "      <td>-0.001805</td>\n",
       "      <td>0.095865</td>\n",
       "      <td>1.061176</td>\n",
       "      <td>-1.800574</td>\n",
       "    </tr>\n",
       "    <tr>\n",
       "      <td>2014-01-02</td>\n",
       "      <td>-0.671333</td>\n",
       "      <td>1.150051</td>\n",
       "      <td>0.628401</td>\n",
       "      <td>-2.183337</td>\n",
       "    </tr>\n",
       "    <tr>\n",
       "      <td>2014-01-03</td>\n",
       "      <td>0.815267</td>\n",
       "      <td>2.201441</td>\n",
       "      <td>1.517063</td>\n",
       "      <td>-2.587043</td>\n",
       "    </tr>\n",
       "    <tr>\n",
       "      <td>2014-01-04</td>\n",
       "      <td>-0.360219</td>\n",
       "      <td>2.986069</td>\n",
       "      <td>2.987679</td>\n",
       "      <td>-3.606024</td>\n",
       "    </tr>\n",
       "    <tr>\n",
       "      <td>2014-01-05</td>\n",
       "      <td>-0.548549</td>\n",
       "      <td>3.328754</td>\n",
       "      <td>2.216768</td>\n",
       "      <td>-4.596030</td>\n",
       "    </tr>\n",
       "    <tr>\n",
       "      <td>...</td>\n",
       "      <td>...</td>\n",
       "      <td>...</td>\n",
       "      <td>...</td>\n",
       "      <td>...</td>\n",
       "    </tr>\n",
       "    <tr>\n",
       "      <td>2016-09-22</td>\n",
       "      <td>-24.080256</td>\n",
       "      <td>21.678007</td>\n",
       "      <td>7.347258</td>\n",
       "      <td>1.148486</td>\n",
       "    </tr>\n",
       "    <tr>\n",
       "      <td>2016-09-23</td>\n",
       "      <td>-23.682430</td>\n",
       "      <td>22.277308</td>\n",
       "      <td>6.487723</td>\n",
       "      <td>0.749731</td>\n",
       "    </tr>\n",
       "    <tr>\n",
       "      <td>2016-09-24</td>\n",
       "      <td>-24.547527</td>\n",
       "      <td>22.780305</td>\n",
       "      <td>5.872357</td>\n",
       "      <td>0.595358</td>\n",
       "    </tr>\n",
       "    <tr>\n",
       "      <td>2016-09-25</td>\n",
       "      <td>-22.702308</td>\n",
       "      <td>23.382161</td>\n",
       "      <td>3.600214</td>\n",
       "      <td>0.261831</td>\n",
       "    </tr>\n",
       "    <tr>\n",
       "      <td>2016-09-26</td>\n",
       "      <td>-22.795745</td>\n",
       "      <td>23.995858</td>\n",
       "      <td>3.152156</td>\n",
       "      <td>-0.262149</td>\n",
       "    </tr>\n",
       "  </tbody>\n",
       "</table>\n",
       "<p>1000 rows × 4 columns</p>\n",
       "</div>"
      ],
      "text/plain": [
       "                    A          B         C         D\n",
       "2014-01-01  -0.001805   0.095865  1.061176 -1.800574\n",
       "2014-01-02  -0.671333   1.150051  0.628401 -2.183337\n",
       "2014-01-03   0.815267   2.201441  1.517063 -2.587043\n",
       "2014-01-04  -0.360219   2.986069  2.987679 -3.606024\n",
       "2014-01-05  -0.548549   3.328754  2.216768 -4.596030\n",
       "...               ...        ...       ...       ...\n",
       "2016-09-22 -24.080256  21.678007  7.347258  1.148486\n",
       "2016-09-23 -23.682430  22.277308  6.487723  0.749731\n",
       "2016-09-24 -24.547527  22.780305  5.872357  0.595358\n",
       "2016-09-25 -22.702308  23.382161  3.600214  0.261831\n",
       "2016-09-26 -22.795745  23.995858  3.152156 -0.262149\n",
       "\n",
       "[1000 rows x 4 columns]"
      ]
     },
     "execution_count": 34,
     "metadata": {},
     "output_type": "execute_result"
    }
   ],
   "source": [
    "df = pd.DataFrame(np.random.randn(1000, 4), index=ts.index, columns=['A', 'B', 'C', 'D'])\n",
    "df = df.cumsum()\n",
    "df"
   ]
  },
  {
   "cell_type": "code",
   "execution_count": 35,
   "metadata": {},
   "outputs": [
    {
     "data": {
      "text/plain": [
       "<matplotlib.legend.Legend at 0x1bf769d2048>"
      ]
     },
     "execution_count": 35,
     "metadata": {},
     "output_type": "execute_result"
    },
    {
     "data": {
      "text/plain": [
       "<Figure size 432x288 with 0 Axes>"
      ]
     },
     "metadata": {},
     "output_type": "display_data"
    },
    {
     "data": {
      "image/png": "[encoded data removed]",
      "text/plain": [
       "<Figure size 432x288 with 1 Axes>"
      ]
     },
     "metadata": {
      "needs_background": "light"
     },
     "output_type": "display_data"
    }
   ],
   "source": [
    "plt.figure(); df.plot(); plt.legend(loc='best')"
   ]
  },
  {
   "cell_type": "markdown",
   "metadata": {},
   "source": [
    "資料檔案I/O\n",
    "\n",
    "CSV檔"
   ]
  },
  {
   "cell_type": "code",
   "execution_count": 36,
   "metadata": {},
   "outputs": [
    {
     "data": {
      "text/html": [
       "<div>\n",
       "<style scoped>\n",
       "    .dataframe tbody tr th:only-of-type {\n",
       "        vertical-align: middle;\n",
       "    }\n",
       "\n",
       "    .dataframe tbody tr th {\n",
       "        vertical-align: top;\n",
       "    }\n",
       "\n",
       "    .dataframe thead th {\n",
       "        text-align: right;\n",
       "    }\n",
       "</style>\n",
       "<table border=\"1\" class=\"dataframe\">\n",
       "  <thead>\n",
       "    <tr style=\"text-align: right;\">\n",
       "      <th></th>\n",
       "      <th>A</th>\n",
       "      <th>B</th>\n",
       "      <th>C</th>\n",
       "      <th>D</th>\n",
       "    </tr>\n",
       "  </thead>\n",
       "  <tbody>\n",
       "    <tr>\n",
       "      <td>2014-01-01</td>\n",
       "      <td>-0.001805</td>\n",
       "      <td>0.095865</td>\n",
       "      <td>1.061176</td>\n",
       "      <td>-1.800574</td>\n",
       "    </tr>\n",
       "    <tr>\n",
       "      <td>2014-01-02</td>\n",
       "      <td>-0.671333</td>\n",
       "      <td>1.150051</td>\n",
       "      <td>0.628401</td>\n",
       "      <td>-2.183337</td>\n",
       "    </tr>\n",
       "    <tr>\n",
       "      <td>2014-01-03</td>\n",
       "      <td>0.815267</td>\n",
       "      <td>2.201441</td>\n",
       "      <td>1.517063</td>\n",
       "      <td>-2.587043</td>\n",
       "    </tr>\n",
       "    <tr>\n",
       "      <td>2014-01-04</td>\n",
       "      <td>-0.360219</td>\n",
       "      <td>2.986069</td>\n",
       "      <td>2.987679</td>\n",
       "      <td>-3.606024</td>\n",
       "    </tr>\n",
       "    <tr>\n",
       "      <td>2014-01-05</td>\n",
       "      <td>-0.548549</td>\n",
       "      <td>3.328754</td>\n",
       "      <td>2.216768</td>\n",
       "      <td>-4.596030</td>\n",
       "    </tr>\n",
       "    <tr>\n",
       "      <td>...</td>\n",
       "      <td>...</td>\n",
       "      <td>...</td>\n",
       "      <td>...</td>\n",
       "      <td>...</td>\n",
       "    </tr>\n",
       "    <tr>\n",
       "      <td>2016-09-22</td>\n",
       "      <td>-24.080256</td>\n",
       "      <td>21.678007</td>\n",
       "      <td>7.347258</td>\n",
       "      <td>1.148486</td>\n",
       "    </tr>\n",
       "    <tr>\n",
       "      <td>2016-09-23</td>\n",
       "      <td>-23.682430</td>\n",
       "      <td>22.277308</td>\n",
       "      <td>6.487723</td>\n",
       "      <td>0.749731</td>\n",
       "    </tr>\n",
       "    <tr>\n",
       "      <td>2016-09-24</td>\n",
       "      <td>-24.547527</td>\n",
       "      <td>22.780305</td>\n",
       "      <td>5.872357</td>\n",
       "      <td>0.595358</td>\n",
       "    </tr>\n",
       "    <tr>\n",
       "      <td>2016-09-25</td>\n",
       "      <td>-22.702308</td>\n",
       "      <td>23.382161</td>\n",
       "      <td>3.600214</td>\n",
       "      <td>0.261831</td>\n",
       "    </tr>\n",
       "    <tr>\n",
       "      <td>2016-09-26</td>\n",
       "      <td>-22.795745</td>\n",
       "      <td>23.995858</td>\n",
       "      <td>3.152156</td>\n",
       "      <td>-0.262149</td>\n",
       "    </tr>\n",
       "  </tbody>\n",
       "</table>\n",
       "<p>1000 rows × 4 columns</p>\n",
       "</div>"
      ],
      "text/plain": [
       "                    A          B         C         D\n",
       "2014-01-01  -0.001805   0.095865  1.061176 -1.800574\n",
       "2014-01-02  -0.671333   1.150051  0.628401 -2.183337\n",
       "2014-01-03   0.815267   2.201441  1.517063 -2.587043\n",
       "2014-01-04  -0.360219   2.986069  2.987679 -3.606024\n",
       "2014-01-05  -0.548549   3.328754  2.216768 -4.596030\n",
       "...               ...        ...       ...       ...\n",
       "2016-09-22 -24.080256  21.678007  7.347258  1.148486\n",
       "2016-09-23 -23.682430  22.277308  6.487723  0.749731\n",
       "2016-09-24 -24.547527  22.780305  5.872357  0.595358\n",
       "2016-09-25 -22.702308  23.382161  3.600214  0.261831\n",
       "2016-09-26 -22.795745  23.995858  3.152156 -0.262149\n",
       "\n",
       "[1000 rows x 4 columns]"
      ]
     },
     "execution_count": 36,
     "metadata": {},
     "output_type": "execute_result"
    }
   ],
   "source": [
    "df"
   ]
  },
  {
   "cell_type": "code",
   "execution_count": 37,
   "metadata": {},
   "outputs": [],
   "source": [
    "df.to_csv('xxx.csv')"
   ]
  },
  {
   "cell_type": "code",
   "execution_count": 38,
   "metadata": {},
   "outputs": [],
   "source": [
    "dfxxx = pd.read_csv('xxx.csv')"
   ]
  },
  {
   "cell_type": "code",
   "execution_count": 39,
   "metadata": {},
   "outputs": [
    {
     "data": {
      "text/html": [
       "<div>\n",
       "<style scoped>\n",
       "    .dataframe tbody tr th:only-of-type {\n",
       "        vertical-align: middle;\n",
       "    }\n",
       "\n",
       "    .dataframe tbody tr th {\n",
       "        vertical-align: top;\n",
       "    }\n",
       "\n",
       "    .dataframe thead th {\n",
       "        text-align: right;\n",
       "    }\n",
       "</style>\n",
       "<table border=\"1\" class=\"dataframe\">\n",
       "  <thead>\n",
       "    <tr style=\"text-align: right;\">\n",
       "      <th></th>\n",
       "      <th>Unnamed: 0</th>\n",
       "      <th>A</th>\n",
       "      <th>B</th>\n",
       "      <th>C</th>\n",
       "      <th>D</th>\n",
       "    </tr>\n",
       "  </thead>\n",
       "  <tbody>\n",
       "    <tr>\n",
       "      <td>0</td>\n",
       "      <td>2014-01-01</td>\n",
       "      <td>-0.001805</td>\n",
       "      <td>0.095865</td>\n",
       "      <td>1.061176</td>\n",
       "      <td>-1.800574</td>\n",
       "    </tr>\n",
       "    <tr>\n",
       "      <td>1</td>\n",
       "      <td>2014-01-02</td>\n",
       "      <td>-0.671333</td>\n",
       "      <td>1.150051</td>\n",
       "      <td>0.628401</td>\n",
       "      <td>-2.183337</td>\n",
       "    </tr>\n",
       "    <tr>\n",
       "      <td>2</td>\n",
       "      <td>2014-01-03</td>\n",
       "      <td>0.815267</td>\n",
       "      <td>2.201441</td>\n",
       "      <td>1.517063</td>\n",
       "      <td>-2.587043</td>\n",
       "    </tr>\n",
       "    <tr>\n",
       "      <td>3</td>\n",
       "      <td>2014-01-04</td>\n",
       "      <td>-0.360219</td>\n",
       "      <td>2.986069</td>\n",
       "      <td>2.987679</td>\n",
       "      <td>-3.606024</td>\n",
       "    </tr>\n",
       "    <tr>\n",
       "      <td>4</td>\n",
       "      <td>2014-01-05</td>\n",
       "      <td>-0.548549</td>\n",
       "      <td>3.328754</td>\n",
       "      <td>2.216768</td>\n",
       "      <td>-4.596030</td>\n",
       "    </tr>\n",
       "    <tr>\n",
       "      <td>...</td>\n",
       "      <td>...</td>\n",
       "      <td>...</td>\n",
       "      <td>...</td>\n",
       "      <td>...</td>\n",
       "      <td>...</td>\n",
       "    </tr>\n",
       "    <tr>\n",
       "      <td>995</td>\n",
       "      <td>2016-09-22</td>\n",
       "      <td>-24.080256</td>\n",
       "      <td>21.678007</td>\n",
       "      <td>7.347258</td>\n",
       "      <td>1.148486</td>\n",
       "    </tr>\n",
       "    <tr>\n",
       "      <td>996</td>\n",
       "      <td>2016-09-23</td>\n",
       "      <td>-23.682430</td>\n",
       "      <td>22.277308</td>\n",
       "      <td>6.487723</td>\n",
       "      <td>0.749731</td>\n",
       "    </tr>\n",
       "    <tr>\n",
       "      <td>997</td>\n",
       "      <td>2016-09-24</td>\n",
       "      <td>-24.547527</td>\n",
       "      <td>22.780305</td>\n",
       "      <td>5.872357</td>\n",
       "      <td>0.595358</td>\n",
       "    </tr>\n",
       "    <tr>\n",
       "      <td>998</td>\n",
       "      <td>2016-09-25</td>\n",
       "      <td>-22.702308</td>\n",
       "      <td>23.382161</td>\n",
       "      <td>3.600214</td>\n",
       "      <td>0.261831</td>\n",
       "    </tr>\n",
       "    <tr>\n",
       "      <td>999</td>\n",
       "      <td>2016-09-26</td>\n",
       "      <td>-22.795745</td>\n",
       "      <td>23.995858</td>\n",
       "      <td>3.152156</td>\n",
       "      <td>-0.262149</td>\n",
       "    </tr>\n",
       "  </tbody>\n",
       "</table>\n",
       "<p>1000 rows × 5 columns</p>\n",
       "</div>"
      ],
      "text/plain": [
       "     Unnamed: 0          A          B         C         D\n",
       "0    2014-01-01  -0.001805   0.095865  1.061176 -1.800574\n",
       "1    2014-01-02  -0.671333   1.150051  0.628401 -2.183337\n",
       "2    2014-01-03   0.815267   2.201441  1.517063 -2.587043\n",
       "3    2014-01-04  -0.360219   2.986069  2.987679 -3.606024\n",
       "4    2014-01-05  -0.548549   3.328754  2.216768 -4.596030\n",
       "..          ...        ...        ...       ...       ...\n",
       "995  2016-09-22 -24.080256  21.678007  7.347258  1.148486\n",
       "996  2016-09-23 -23.682430  22.277308  6.487723  0.749731\n",
       "997  2016-09-24 -24.547527  22.780305  5.872357  0.595358\n",
       "998  2016-09-25 -22.702308  23.382161  3.600214  0.261831\n",
       "999  2016-09-26 -22.795745  23.995858  3.152156 -0.262149\n",
       "\n",
       "[1000 rows x 5 columns]"
      ]
     },
     "execution_count": 39,
     "metadata": {},
     "output_type": "execute_result"
    }
   ],
   "source": [
    "dfxxx"
   ]
  },
  {
   "cell_type": "markdown",
   "metadata": {},
   "source": [
    "Excel 檔"
   ]
  },
  {
   "cell_type": "code",
   "execution_count": 40,
   "metadata": {},
   "outputs": [],
   "source": [
    "df.to_excel('xxx.xlsx', sheet_name = 'Sheet1')"
   ]
  },
  {
   "cell_type": "code",
   "execution_count": 41,
   "metadata": {},
   "outputs": [
    {
     "data": {
      "text/html": [
       "<div>\n",
       "<style scoped>\n",
       "    .dataframe tbody tr th:only-of-type {\n",
       "        vertical-align: middle;\n",
       "    }\n",
       "\n",
       "    .dataframe tbody tr th {\n",
       "        vertical-align: top;\n",
       "    }\n",
       "\n",
       "    .dataframe thead th {\n",
       "        text-align: right;\n",
       "    }\n",
       "</style>\n",
       "<table border=\"1\" class=\"dataframe\">\n",
       "  <thead>\n",
       "    <tr style=\"text-align: right;\">\n",
       "      <th></th>\n",
       "      <th>Unnamed: 0</th>\n",
       "      <th>A</th>\n",
       "      <th>B</th>\n",
       "      <th>C</th>\n",
       "      <th>D</th>\n",
       "    </tr>\n",
       "  </thead>\n",
       "  <tbody>\n",
       "    <tr>\n",
       "      <td>0</td>\n",
       "      <td>2014-01-01</td>\n",
       "      <td>-0.001805</td>\n",
       "      <td>0.095865</td>\n",
       "      <td>1.061176</td>\n",
       "      <td>-1.800574</td>\n",
       "    </tr>\n",
       "    <tr>\n",
       "      <td>1</td>\n",
       "      <td>2014-01-02</td>\n",
       "      <td>-0.671333</td>\n",
       "      <td>1.150051</td>\n",
       "      <td>0.628401</td>\n",
       "      <td>-2.183337</td>\n",
       "    </tr>\n",
       "    <tr>\n",
       "      <td>2</td>\n",
       "      <td>2014-01-03</td>\n",
       "      <td>0.815267</td>\n",
       "      <td>2.201441</td>\n",
       "      <td>1.517063</td>\n",
       "      <td>-2.587043</td>\n",
       "    </tr>\n",
       "    <tr>\n",
       "      <td>3</td>\n",
       "      <td>2014-01-04</td>\n",
       "      <td>-0.360219</td>\n",
       "      <td>2.986069</td>\n",
       "      <td>2.987679</td>\n",
       "      <td>-3.606024</td>\n",
       "    </tr>\n",
       "    <tr>\n",
       "      <td>4</td>\n",
       "      <td>2014-01-05</td>\n",
       "      <td>-0.548549</td>\n",
       "      <td>3.328754</td>\n",
       "      <td>2.216768</td>\n",
       "      <td>-4.596030</td>\n",
       "    </tr>\n",
       "    <tr>\n",
       "      <td>...</td>\n",
       "      <td>...</td>\n",
       "      <td>...</td>\n",
       "      <td>...</td>\n",
       "      <td>...</td>\n",
       "      <td>...</td>\n",
       "    </tr>\n",
       "    <tr>\n",
       "      <td>995</td>\n",
       "      <td>2016-09-22</td>\n",
       "      <td>-24.080256</td>\n",
       "      <td>21.678007</td>\n",
       "      <td>7.347258</td>\n",
       "      <td>1.148486</td>\n",
       "    </tr>\n",
       "    <tr>\n",
       "      <td>996</td>\n",
       "      <td>2016-09-23</td>\n",
       "      <td>-23.682430</td>\n",
       "      <td>22.277308</td>\n",
       "      <td>6.487723</td>\n",
       "      <td>0.749731</td>\n",
       "    </tr>\n",
       "    <tr>\n",
       "      <td>997</td>\n",
       "      <td>2016-09-24</td>\n",
       "      <td>-24.547527</td>\n",
       "      <td>22.780305</td>\n",
       "      <td>5.872357</td>\n",
       "      <td>0.595358</td>\n",
       "    </tr>\n",
       "    <tr>\n",
       "      <td>998</td>\n",
       "      <td>2016-09-25</td>\n",
       "      <td>-22.702308</td>\n",
       "      <td>23.382161</td>\n",
       "      <td>3.600214</td>\n",
       "      <td>0.261831</td>\n",
       "    </tr>\n",
       "    <tr>\n",
       "      <td>999</td>\n",
       "      <td>2016-09-26</td>\n",
       "      <td>-22.795745</td>\n",
       "      <td>23.995858</td>\n",
       "      <td>3.152156</td>\n",
       "      <td>-0.262149</td>\n",
       "    </tr>\n",
       "  </tbody>\n",
       "</table>\n",
       "<p>1000 rows × 5 columns</p>\n",
       "</div>"
      ],
      "text/plain": [
       "    Unnamed: 0          A          B         C         D\n",
       "0   2014-01-01  -0.001805   0.095865  1.061176 -1.800574\n",
       "1   2014-01-02  -0.671333   1.150051  0.628401 -2.183337\n",
       "2   2014-01-03   0.815267   2.201441  1.517063 -2.587043\n",
       "3   2014-01-04  -0.360219   2.986069  2.987679 -3.606024\n",
       "4   2014-01-05  -0.548549   3.328754  2.216768 -4.596030\n",
       "..         ...        ...        ...       ...       ...\n",
       "995 2016-09-22 -24.080256  21.678007  7.347258  1.148486\n",
       "996 2016-09-23 -23.682430  22.277308  6.487723  0.749731\n",
       "997 2016-09-24 -24.547527  22.780305  5.872357  0.595358\n",
       "998 2016-09-25 -22.702308  23.382161  3.600214  0.261831\n",
       "999 2016-09-26 -22.795745  23.995858  3.152156 -0.262149\n",
       "\n",
       "[1000 rows x 5 columns]"
      ]
     },
     "execution_count": 41,
     "metadata": {},
     "output_type": "execute_result"
    }
   ],
   "source": [
    "pd.read_excel('xxx.xlsx', 'Sheet1', index_col=None,na_values=['NA'])"
   ]
  }
 ],
 "metadata": {
  "kernelspec": {
   "display_name": "Python 3",
   "language": "python",
   "name": "python3"
  },
  "language_info": {
   "codemirror_mode": {
    "name": "ipython",
    "version": 3
   },
   "file_extension": ".py",
   "mimetype": "text/x-python",
   "name": "python",
   "nbconvert_exporter": "python",
   "pygments_lexer": "ipython3",
   "version": "3.7.4"
  }
 },
 "nbformat": 4,
 "nbformat_minor": 4
}
